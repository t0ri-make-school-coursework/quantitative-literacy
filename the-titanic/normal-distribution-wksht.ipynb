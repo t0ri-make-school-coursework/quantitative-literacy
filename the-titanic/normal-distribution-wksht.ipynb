{
 "cells": [
  {
   "cell_type": "markdown",
   "metadata": {},
   "source": [
    "# 1\n",
    "skip 1 (drawing)"
   ]
  },
  {
   "cell_type": "markdown",
   "metadata": {},
   "source": [
    "# 2\n",
    "Former ISU basketball player Kelvin Cato is 83 inches tall. \n",
    "Assuming that heights follow approximately a normal distribution with mean 70 and standard deviation σ = 3,\n",
    "\n",
    "(a) what is his corresponding z-score?\n",
    "\n",
    "(b) what proportion of men are taller than him?"
   ]
  },
  {
   "cell_type": "code",
   "execution_count": 8,
   "metadata": {},
   "outputs": [
    {
     "data": {
      "text/plain": [
       "('z-score', 4.333333333333333)"
      ]
     },
     "execution_count": 8,
     "metadata": {},
     "output_type": "execute_result"
    }
   ],
   "source": [
    "cato_height = 83\n",
    "cato_mean = 70\n",
    "cato_std = 3\n",
    "cato_z_score = (cato_height - mean)/cato_std\n",
    "'z-score', cato_z_score"
   ]
  },
  {
   "cell_type": "code",
   "execution_count": 7,
   "metadata": {},
   "outputs": [
    {
     "data": {
      "text/plain": [
       "('percentage of players taller', '0%')"
      ]
     },
     "execution_count": 7,
     "metadata": {},
     "output_type": "execute_result"
    }
   ],
   "source": [
    "'percentage of players taller', '0%'"
   ]
  },
  {
   "cell_type": "markdown",
   "metadata": {},
   "source": [
    "# 3\n",
    "Since the length of a downhill ski is related to the height of the individuals renting them, it is fair\n",
    "to assume that a normal distribution would describe the length of women’s skis at rental outlets in\n",
    "Colorado. The mean of the distribution is 150 cm and the standard deviation is 10 cm.\n",
    "\n",
    "(a) What is the proportion of women’s ski lengths that are less than 130 cm?\n",
    "\n",
    "(b) What is the proportion of women’s ski lengths that are greater than 125 cm?\n",
    "\n",
    "(c) What is the proportion of women’s ski lengths that are between 125 and 155?\n",
    "\n",
    "(d) Very long skies are expensive and there are not many people who rent them. What is the longest\n",
    "women’s ski a rental shop should carry so that only 2 percent of the costumers will ask to rent\n",
    "a longer ski?"
   ]
  },
  {
   "cell_type": "code",
   "execution_count": 11,
   "metadata": {},
   "outputs": [
    {
     "data": {
      "text/plain": [
       "(\"proportion of women's skiis less than 130 cm\", -2.0, '2.28%')"
      ]
     },
     "execution_count": 11,
     "metadata": {},
     "output_type": "execute_result"
    }
   ],
   "source": [
    "ski_mean = 150\n",
    "ski_std = 10\n",
    "ski_z_score_130 = (130 - ski_mean)/ski_std # -2\n",
    "\n",
    "'proportion of women\\'s skiis less than 130 cm', ski_z_score_130, '2.28%'"
   ]
  },
  {
   "cell_type": "code",
   "execution_count": 15,
   "metadata": {},
   "outputs": [
    {
     "data": {
      "text/plain": [
       "(\"proportion of women's skiis greater than 125 cm\", -2.5, '99.38')"
      ]
     },
     "execution_count": 15,
     "metadata": {},
     "output_type": "execute_result"
    }
   ],
   "source": [
    "ski_z_score_125 = (125 - ski_mean)/ski_std # -2.5, .62%\n",
    "'proportion of women\\'s skiis greater than 125 cm', ski_z_score_125, '99.38%'"
   ]
  },
  {
   "cell_type": "code",
   "execution_count": 19,
   "metadata": {},
   "outputs": [
    {
     "data": {
      "text/plain": [
       "(\"proportion of women's skiis between 125 and 155\", '68.53%')"
      ]
     },
     "execution_count": 19,
     "metadata": {},
     "output_type": "execute_result"
    }
   ],
   "source": [
    "ski_z_score_155 = (155 - ski_mean)/ski_std # .5, 69.15%\n",
    "'proportion of women\\'s skiis between 125 and 155', '68.53%'"
   ]
  },
  {
   "cell_type": "code",
   "execution_count": 23,
   "metadata": {},
   "outputs": [
    {
     "data": {
      "text/plain": [
       "('biggest ski', 170.54)"
      ]
     },
     "execution_count": 23,
     "metadata": {},
     "output_type": "execute_result"
    }
   ],
   "source": [
    "z_score_98_percentile = 2.054\n",
    "biggest_ski = (z_score_98_percentile * ski_std) + ski_mean\n",
    "'biggest ski', biggest_ski"
   ]
  },
  {
   "cell_type": "markdown",
   "metadata": {},
   "source": [
    "# 4\n",
    "The BMI for males age 20 to 74 is follows approximately a normal distribution with mean µ = 27.9\n",
    "and standard deviation σ = 7.8. Use the 68-95-99.7 rule to find\n",
    "\n",
    "(a) the percentage of males with BMI less than 20.1.\n",
    "\n",
    "(b) the percentages of males with BMI greater than 12.3.\n",
    "\n",
    "(c) the BMI values that correspond to the middle 99.7% of the distribution.\n",
    "\n",
    "(d) the value such that 0.15% of males have BMI’s greater than the value."
   ]
  },
  {
   "cell_type": "code",
   "execution_count": 25,
   "metadata": {},
   "outputs": [
    {
     "data": {
      "text/plain": [
       "('percentage of males with BMI less than 20.1', '15.87%')"
      ]
     },
     "execution_count": 25,
     "metadata": {},
     "output_type": "execute_result"
    }
   ],
   "source": [
    "bmi_mean = 27.9\n",
    "bmi_std = 7.8\n",
    "bmi_z_score_less_than_20 = (20.1 - bmi_mean)/bmi_std # -0.9999999999999997\n",
    "'percentage of males with BMI less than 20.1', '15.87%'"
   ]
  },
  {
   "cell_type": "code",
   "execution_count": 28,
   "metadata": {},
   "outputs": [
    {
     "data": {
      "text/plain": [
       "('percentage of males with BMI greater than 12.3', '97.72')"
      ]
     },
     "execution_count": 28,
     "metadata": {},
     "output_type": "execute_result"
    }
   ],
   "source": [
    "bmi_z_score_greater_than_12 = (12.3 - bmi_mean)/bmi_std # -1.9999999999999998\n",
    "'percentage of males with BMI greater than 12.3', '97.72'"
   ]
  },
  {
   "cell_type": "code",
   "execution_count": 32,
   "metadata": {},
   "outputs": [
    {
     "data": {
      "text/plain": [
       "('lower limit', 4.5, 'upper limit', 51.3)"
      ]
     },
     "execution_count": 32,
     "metadata": {},
     "output_type": "execute_result"
    }
   ],
   "source": [
    "lower_limit = bmi_mean - (3 * bmi_std)\n",
    "upper_limit = bmi_mean + (3 * bmi_std)\n",
    "'lower limit', lower_limit, 'upper limit', upper_limit"
   ]
  },
  {
   "cell_type": "code",
   "execution_count": 35,
   "metadata": {},
   "outputs": [
    {
     "data": {
      "text/plain": [
       "('only .15% of BMIs are higher than', 51.050399999999996)"
      ]
     },
     "execution_count": 35,
     "metadata": {},
     "output_type": "execute_result"
    }
   ],
   "source": [
    "z_score_99_percentile = 2.968 # 99.85%\n",
    "value = (z_score_99_percentile * bmi_std) + bmi_mean\n",
    "'only .15% of BMIs are higher than', value"
   ]
  }
 ],
 "metadata": {
  "kernelspec": {
   "display_name": "Python 3",
   "language": "python",
   "name": "python3"
  },
  "language_info": {
   "codemirror_mode": {
    "name": "ipython",
    "version": 3
   },
   "file_extension": ".py",
   "mimetype": "text/x-python",
   "name": "python",
   "nbconvert_exporter": "python",
   "pygments_lexer": "ipython3",
   "version": "3.7.6"
  }
 },
 "nbformat": 4,
 "nbformat_minor": 4
}
