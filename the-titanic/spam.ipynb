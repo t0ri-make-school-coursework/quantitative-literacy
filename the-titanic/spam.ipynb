{
 "cells": [
  {
   "cell_type": "markdown",
   "metadata": {},
   "source": [
    "# Conditional Probability"
   ]
  },
  {
   "cell_type": "markdown",
   "metadata": {},
   "source": [
    "## What is the probability that an email be spam? What is the probability that an email be ham?\n",
    "P(spam) = `2/3`\n",
    "\n",
    "P(ham)  = `1/3`"
   ]
  },
  {
   "cell_type": "markdown",
   "metadata": {},
   "source": [
    "## We know an email is spam, what is the probability that \"password\" be a word in it?\n",
    "Create a dictionary of spam where its keys are unique words in spam emails and their values are the frequency of that word."
   ]
  },
  {
   "cell_type": "code",
   "execution_count": 35,
   "metadata": {},
   "outputs": [
    {
     "data": {
      "text/plain": [
       "0.15384615384615385"
      ]
     },
     "execution_count": 35,
     "metadata": {},
     "output_type": "execute_result"
    }
   ],
   "source": [
    "spam_emails = [\n",
    "    'Send us your password',\n",
    "    'review us',\n",
    "    'Send your password',\n",
    "    'Send us your account'\n",
    "]\n",
    "\n",
    "spam_word_frequencies = dict()\n",
    "for email in spam_emails:\n",
    "    for word in email.split(' '):\n",
    "        if word in spam_word_frequencies:\n",
    "            spam_word_frequencies[word] += 1\n",
    "        else:\n",
    "            spam_word_frequencies[word] = 1\n",
    "\n",
    "spam_password_count = spam_word_frequencies['password']\n",
    "spam_sample_space = sum(spam_word_frequencies.values())\n",
    "spam_probability_password = spam_password_count / spam_sample_space\n",
    "spam_probability_password # of the word 'password' in a spam email"
   ]
  },
  {
   "cell_type": "markdown",
   "metadata": {},
   "source": [
    "## We know an email is ham, what is the probability that \"password\" be a word in it?\n",
    "Create a dictionary of ham where its key are unique words in ham emails and their value are the frequency of that word."
   ]
  },
  {
   "cell_type": "code",
   "execution_count": 36,
   "metadata": {},
   "outputs": [
    {
     "data": {
      "text/plain": [
       "0.14285714285714285"
      ]
     },
     "execution_count": 36,
     "metadata": {},
     "output_type": "execute_result"
    }
   ],
   "source": [
    "ham_emails = [\n",
    "    'Send us your review',\n",
    "    'review your password'\n",
    "]\n",
    "\n",
    "ham_word_frequencies = { 'account': 0 }\n",
    "for email in ham_emails:\n",
    "    for word in email.split(' '):\n",
    "        if word in ham_word_frequencies:\n",
    "            ham_word_frequencies[word] += 1\n",
    "        else:\n",
    "            ham_word_frequencies[word] = 1\n",
    "\n",
    "ham_password_count = ham_word_frequencies['password']\n",
    "ham_sample_space = sum(ham_word_frequencies.values())\n",
    "ham_probability_password = ham_password_count / ham_sample_space\n",
    "ham_probability_password # of the word 'password' in a ham email"
   ]
  },
  {
   "cell_type": "markdown",
   "metadata": {},
   "source": [
    "## Assume we have seen \"password\" in an email, what is the probability that the email be spam?"
   ]
  },
  {
   "cell_type": "code",
   "execution_count": 29,
   "metadata": {},
   "outputs": [
    {
     "name": "stdout",
     "output_type": "stream",
     "text": [
      "0.15018315018315018\n",
      "0.6829268292682927\n"
     ]
    }
   ],
   "source": [
    "# probabilities of an email's type\n",
    "probability_spam = 4/6\n",
    "probability_ham = 2/6\n",
    "\n",
    "# probability the email has password\n",
    "probability_password = spam_probability_password * probability_spam + ham_probability_password * probability_ham \n",
    "print(probability_password)\n",
    "# probability the email is spam if it has password\n",
    "probability_spam_if_password = spam_probability_password * probability_spam / probability_password\n",
    "print(probability_spam_if_password)"
   ]
  },
  {
   "cell_type": "markdown",
   "metadata": {},
   "source": [
    "## Given any one word in an email, what is the probability that the email may be spam?"
   ]
  },
  {
   "cell_type": "code",
   "execution_count": 38,
   "metadata": {},
   "outputs": [
    {
     "data": {
      "text/plain": [
       "{'Send': 0.24418604651162792,\n",
       " 'us': 0.24418604651162792,\n",
       " 'your': 0.19905213270142183,\n",
       " 'password': 0.17721518987341772,\n",
       " 'review': 0.07650273224043716,\n",
       " 'account': 0.13333333333333333}"
      ]
     },
     "execution_count": 38,
     "metadata": {},
     "output_type": "execute_result"
    }
   ],
   "source": [
    "spam_sample_space = sum(spam_word_frequencies.values())\n",
    "ham_sample_space = sum(ham_word_frequencies.values())\n",
    "\n",
    "probabilities = dict()\n",
    "for word in spam_word_frequencies.keys(): # looping through spam because spam holds all ham\n",
    "    # Get probability the word is in a spam email\n",
    "    spam_word_frequency = spam_word_frequencies[word]\n",
    "    probability_word_if_spam = spam_word_frequency / spam_sample_space\n",
    "    # Get probability word is in a ham email\n",
    "    ham_word_frequency = ham_word_frequencies[word]\n",
    "    probability_word_if_ham = ham_word_frequency / ham_sample_space\n",
    "    \n",
    "    # Get probability email has word\n",
    "    probability_word = probability_word_if_spam * probability_spam + probability_word_if_ham + probability_ham\n",
    "    # Get probability email is spam given word\n",
    "    probability_spam_if_word = probability_word_if_spam * probability_spam / probability_word\n",
    "    \n",
    "    # Add probabilty to dictionary\n",
    "    probabilities[word] = probability_spam_if_word\n",
    "\n",
    "probabilities"
   ]
  }
 ],
 "metadata": {
  "kernelspec": {
   "display_name": "Python 3",
   "language": "python",
   "name": "python3"
  },
  "language_info": {
   "codemirror_mode": {
    "name": "ipython",
    "version": 3
   },
   "file_extension": ".py",
   "mimetype": "text/x-python",
   "name": "python",
   "nbconvert_exporter": "python",
   "pygments_lexer": "ipython3",
   "version": "3.7.6"
  }
 },
 "nbformat": 4,
 "nbformat_minor": 4
}
