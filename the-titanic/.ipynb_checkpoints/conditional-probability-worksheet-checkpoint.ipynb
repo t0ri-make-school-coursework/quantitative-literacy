{
 "cells": [
  {
   "cell_type": "code",
   "execution_count": null,
   "metadata": {},
   "outputs": [],
   "source": [
    "# 1"
   ]
  },
  {
   "cell_type": "code",
   "execution_count": 8,
   "metadata": {},
   "outputs": [],
   "source": [
    "# P(employee has less than a high school education)\n",
    "# P(E<HS) = 107 / 1200 = 9%"
   ]
  },
  {
   "cell_type": "code",
   "execution_count": 3,
   "metadata": {},
   "outputs": [],
   "source": [
    "# P(employee earns under $20,000)\n",
    "# P(E<20k) = 296 / 1200 = 25%"
   ]
  },
  {
   "cell_type": "code",
   "execution_count": 4,
   "metadata": {},
   "outputs": [],
   "source": [
    "# P(employee earns over $30,000 and has less than a high school education)\n",
    "# P(E>30k intersect E<HS) = ((404/1200) * (296/1200)) = 8.3%"
   ]
  },
  {
   "cell_type": "code",
   "execution_count": 5,
   "metadata": {},
   "outputs": [],
   "source": [
    "# P(employee earns under $20,000 and has a college degree)\n",
    "# P(E<20k intersect C) = (296/1200) * (431/1200) = 8.9%"
   ]
  },
  {
   "cell_type": "code",
   "execution_count": 6,
   "metadata": {},
   "outputs": [],
   "source": [
    "# P(employee earns over $30,000 | has only high school education)\n",
    "# P(E>30k | HS) = ((404/1200) * (224/1200)) / (224/1200) = 33.6%"
   ]
  },
  {
   "cell_type": "code",
   "execution_count": 7,
   "metadata": {},
   "outputs": [],
   "source": [
    "# P(employee has less than high school education | earns over $30,000)\n",
    "# P(E<HS | E>30k) = ((107/1200) * (404/1200) / (404/1200)) = 8.9%"
   ]
  },
  {
   "cell_type": "code",
   "execution_count": 9,
   "metadata": {},
   "outputs": [],
   "source": [
    "# 2"
   ]
  },
  {
   "cell_type": "code",
   "execution_count": 10,
   "metadata": {},
   "outputs": [],
   "source": [
    "# P(male)\n",
    "# 91/150 = 60%"
   ]
  },
  {
   "cell_type": "code",
   "execution_count": 11,
   "metadata": {},
   "outputs": [],
   "source": [
    "# P(male or majors in Chemistry)\n",
    "# 91/150 + 55/150 = 97.3%"
   ]
  },
  {
   "cell_type": "code",
   "execution_count": 12,
   "metadata": {},
   "outputs": [],
   "source": [
    "# P(majors in Physics | male)\n",
    "# ((40/150) * (91/150) / (91/150)) = 27%"
   ]
  },
  {
   "cell_type": "code",
   "execution_count": 13,
   "metadata": {},
   "outputs": [],
   "source": [
    "# 3"
   ]
  },
  {
   "cell_type": "code",
   "execution_count": 14,
   "metadata": {},
   "outputs": [],
   "source": [
    "# P(integer)\n",
    "# 100%"
   ]
  },
  {
   "cell_type": "code",
   "execution_count": 15,
   "metadata": {},
   "outputs": [],
   "source": [
    "# P(less than 10 | less than 13)\n",
    "# ((5/10) * (8/10)) / (8/10) = 50%"
   ]
  },
  {
   "cell_type": "code",
   "execution_count": 16,
   "metadata": {},
   "outputs": [],
   "source": [
    "# P(greater than 8 | less than 11)\n",
    "# ((6/10) * 6/10) / (6/10) = 60%"
   ]
  },
  {
   "cell_type": "code",
   "execution_count": 17,
   "metadata": {},
   "outputs": [],
   "source": [
    "# P(greater than 7 | greater than 12\n",
    "# ((7/10) * 2/10) / (2/10) = 70%z"
   ]
  },
  {
   "cell_type": "code",
   "execution_count": 18,
   "metadata": {},
   "outputs": [],
   "source": [
    "# 4"
   ]
  },
  {
   "cell_type": "code",
   "execution_count": 19,
   "metadata": {},
   "outputs": [],
   "source": [
    "# 25% chance walking\n",
    "# 10% chance late walking\n",
    "# 90% chance not late walking\n",
    "\n",
    "# 75% chance cycling\n",
    "# 5% chance late cycling\n",
    "# 95% not late cycling"
   ]
  },
  {
   "cell_type": "code",
   "execution_count": 20,
   "metadata": {},
   "outputs": [],
   "source": [
    "# P(walks | is late to school and cycles | is late to school)\n",
    "# P(.25 * .1 / .25) + P(.75 * .05 / .75) = 1.5%"
   ]
  },
  {
   "cell_type": "code",
   "execution_count": 21,
   "metadata": {},
   "outputs": [],
   "source": [
    "# 5"
   ]
  },
  {
   "cell_type": "code",
   "execution_count": 22,
   "metadata": {},
   "outputs": [],
   "source": [
    "# P(Lisa cooks dinner and they do not have pasta)\n",
    "# (7/10) * (78/100) = 55%"
   ]
  },
  {
   "cell_type": "code",
   "execution_count": 23,
   "metadata": {},
   "outputs": [],
   "source": [
    "# P(they do not have pasta)\n",
    "# P(sharon cooks intersect they don't have pasta) = (3/10) * (25/100) = 7.5%\n",
    "# P(lisa cooks intersect they don't have pasta) = 55%\n",
    "# P()"
   ]
  },
  {
   "cell_type": "code",
   "execution_count": 24,
   "metadata": {},
   "outputs": [],
   "source": [
    "# 6"
   ]
  },
  {
   "cell_type": "code",
   "execution_count": 25,
   "metadata": {},
   "outputs": [],
   "source": [
    "# P(the letter chosen is a vowel | the letter falls in the first half of the alphabet)\n",
    "# ((3/8) * (5/8)) / (5/8) = 37.5%"
   ]
  },
  {
   "cell_type": "code",
   "execution_count": 26,
   "metadata": {},
   "outputs": [],
   "source": [
    "# P(the letter falls in the first half of the alphabet | letter chosen is a vowel)\n",
    "# ((5/8) * (3/8)) / (3/8) = 62.5%"
   ]
  },
  {
   "cell_type": "code",
   "execution_count": 27,
   "metadata": {},
   "outputs": [],
   "source": [
    "# 7"
   ]
  },
  {
   "cell_type": "code",
   "execution_count": 28,
   "metadata": {},
   "outputs": [],
   "source": [
    "# Find the probability that the game will be canceled.\n",
    "# this makes no sense.  what's the probability of a clear day? but ok\n",
    "# (((7/10) * (3/10)) / (3/10)) * (((3/10) * (8/10)) / (8/10))) = 21%"
   ]
  },
  {
   "cell_type": "code",
   "execution_count": 29,
   "metadata": {},
   "outputs": [],
   "source": [
    "# Find the probability there will be a light drizzle and the game will not be canceled.\n",
    "# (3/10) * (2/10) = 6%"
   ]
  },
  {
   "cell_type": "code",
   "execution_count": 32,
   "metadata": {},
   "outputs": [],
   "source": [
    "# 8"
   ]
  },
  {
   "cell_type": "code",
   "execution_count": null,
   "metadata": {},
   "outputs": [],
   "source": [
    "# X => 5/6\n",
    "    # Y => 2/5\n",
    "# not X => 1/6\n",
    "    # Y => 1/4"
   ]
  },
  {
   "cell_type": "code",
   "execution_count": 31,
   "metadata": {},
   "outputs": [],
   "source": [
    "# P(not X) = 1/6"
   ]
  },
  {
   "cell_type": "code",
   "execution_count": 33,
   "metadata": {},
   "outputs": [],
   "source": [
    "# P(Y | (not X)) = "
   ]
  },
  {
   "cell_type": "code",
   "execution_count": 34,
   "metadata": {},
   "outputs": [],
   "source": [
    "# 9"
   ]
  },
  {
   "cell_type": "code",
   "execution_count": 35,
   "metadata": {},
   "outputs": [],
   "source": [
    "# P(sports | female) \n",
    "# ((106/696) * (334/696)) / (334/696) = 15%"
   ]
  },
  {
   "cell_type": "code",
   "execution_count": 36,
   "metadata": {},
   "outputs": [],
   "source": [
    "# P(female | sports)\n",
    "# (334/696) * (106/696)) / (106/696) = 48%"
   ]
  },
  {
   "cell_type": "code",
   "execution_count": 37,
   "metadata": {},
   "outputs": [],
   "source": [
    "# P(reading | male)\n",
    "# ((161/696) * (362/696) / (362/696)) = 23%"
   ]
  },
  {
   "cell_type": "code",
   "execution_count": 38,
   "metadata": {},
   "outputs": [],
   "source": [
    "# P(male | reading)\n",
    "# ((362/696) * (161/696)/ (161/696)) = 52%"
   ]
  },
  {
   "cell_type": "code",
   "execution_count": 39,
   "metadata": {},
   "outputs": [],
   "source": [
    "# P(hiking | female)\n",
    "# ((106/696) * (334/696) / (334/696)) = 15%"
   ]
  },
  {
   "cell_type": "code",
   "execution_count": 40,
   "metadata": {},
   "outputs": [],
   "source": [
    "# P(hiking | male)\n",
    "# ((106/696) * (362/696) / (362/696)) = 15%"
   ]
  },
  {
   "cell_type": "code",
   "execution_count": 41,
   "metadata": {},
   "outputs": [],
   "source": [
    "# P(male | shopping) \n",
    "# ((362/696) * (139/696) / (139/696)) = 52%"
   ]
  },
  {
   "cell_type": "code",
   "execution_count": 42,
   "metadata": {},
   "outputs": [],
   "source": [
    "# P(female | shopping) \n",
    "# ((334/696) * (139/696) / (139/696)) = 48%"
   ]
  },
  {
   "cell_type": "code",
   "execution_count": null,
   "metadata": {},
   "outputs": [],
   "source": [
    "# 32/(55/100)\n",
    "# 48%\n",
    "# or\n",
    "# (55/100) * (32/(55/100)) = ... 3200% lol"
   ]
  }
 ],
 "metadata": {
  "kernelspec": {
   "display_name": "Python 3",
   "language": "python",
   "name": "python3"
  },
  "language_info": {
   "codemirror_mode": {
    "name": "ipython",
    "version": 3
   },
   "file_extension": ".py",
   "mimetype": "text/x-python",
   "name": "python",
   "nbconvert_exporter": "python",
   "pygments_lexer": "ipython3",
   "version": "3.7.6"
  }
 },
 "nbformat": 4,
 "nbformat_minor": 4
}
