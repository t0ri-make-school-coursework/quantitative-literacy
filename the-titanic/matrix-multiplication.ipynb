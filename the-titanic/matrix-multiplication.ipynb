{
 "cells": [
  {
   "cell_type": "code",
   "execution_count": 1,
   "metadata": {},
   "outputs": [],
   "source": [
    "import numpy as np"
   ]
  },
  {
   "cell_type": "code",
   "execution_count": 4,
   "metadata": {},
   "outputs": [
    {
     "data": {
      "text/plain": [
       "array([[  6,   0],\n",
       "       [-27,  12]])"
      ]
     },
     "execution_count": 4,
     "metadata": {},
     "output_type": "execute_result"
    }
   ],
   "source": [
    "problem_one_list_a = np.array([[0, 2], [-2, -5]])\n",
    "problem_one_list_b = np.array([[6, -6], [3, 0]])\n",
    "problem_one_answer = problem_one_list_a.dot(problem_one_list_b)\n",
    "problem_one_answer"
   ]
  },
  {
   "cell_type": "code",
   "execution_count": 23,
   "metadata": {},
   "outputs": [
    {
     "data": {
      "text/plain": [
       "array([-57])"
      ]
     },
     "execution_count": 23,
     "metadata": {},
     "output_type": "execute_result"
    }
   ],
   "source": [
    "problem_two_list_a = np.array([[6], [-3]])\n",
    "problem_two_list_b = np.array([-5, 9])\n",
    "problem_two_answer = problem_two_list_b.dot(problem_two_list_a)\n",
    "problem_two_answer"
   ]
  },
  {
   "cell_type": "code",
   "execution_count": 14,
   "metadata": {},
   "outputs": [
    {
     "data": {
      "text/plain": [
       "array([[ -5, -10],\n",
       "       [  8,  13]])"
      ]
     },
     "execution_count": 14,
     "metadata": {},
     "output_type": "execute_result"
    }
   ],
   "source": [
    "problem_three_list_a = np.array([[-5, -5], [-1, 2]])\n",
    "problem_three_list_b = np.array([[-2, -3], [3, 5]])\n",
    "problem_three_answer = problem_three_list_a.dot(problem_three_list_b)\n",
    "problem_three_answer"
   ]
  },
  {
   "cell_type": "code",
   "execution_count": 16,
   "metadata": {},
   "outputs": [
    {
     "data": {
      "text/plain": [
       "array([[-13, -19],\n",
       "       [-11,  -1]])"
      ]
     },
     "execution_count": 16,
     "metadata": {},
     "output_type": "execute_result"
    }
   ],
   "source": [
    "problem_four_list_a = np.array([[-3, 5], [-2, 1]])\n",
    "problem_four_list_b = np.array([[6, -2], [1, -5]])\n",
    "problem_four_answer = problem_four_list_a.dot(problem_four_list_b)\n",
    "problem_four_answer"
   ]
  },
  {
   "cell_type": "code",
   "execution_count": 21,
   "metadata": {},
   "outputs": [
    {
     "data": {
      "text/plain": [
       "array([[-10, -20],\n",
       "       [ 10, -16],\n",
       "       [ 18, -24]])"
      ]
     },
     "execution_count": 21,
     "metadata": {},
     "output_type": "execute_result"
    }
   ],
   "source": [
    "problem_five_list_a = np.array([[0, 5], [-3, 1], [-5, 1]])\n",
    "problem_five_list_b = np.array([[-4, 4], [-2, -4]])\n",
    "problem_five_answer = problem_five_list_a.dot(problem_five_list_b)\n",
    "problem_five_answer"
   ]
  },
  {
   "cell_type": "code",
   "execution_count": 24,
   "metadata": {},
   "outputs": [
    {
     "data": {
      "text/plain": [
       "array([[-14,  -3],\n",
       "       [-19,  22]])"
      ]
     },
     "execution_count": 24,
     "metadata": {},
     "output_type": "execute_result"
    }
   ],
   "source": [
    "problem_six_list_a = np.array([[5, 3, 5], [1, 5, 0]])\n",
    "problem_six_list_b = np.array([[-4, 2], [-3, 4], [3, -5]])\n",
    "problem_six_answer = problem_six_list_a.dot(problem_six_list_b)\n",
    "problem_six_answer"
   ]
  },
  {
   "cell_type": "code",
   "execution_count": 26,
   "metadata": {},
   "outputs": [
    {
     "ename": "ValueError",
     "evalue": "shapes (2,) and (3,1) not aligned: 2 (dim 0) != 3 (dim 0)",
     "output_type": "error",
     "traceback": [
      "\u001b[0;31m---------------------------------------------------------------------------\u001b[0m",
      "\u001b[0;31mValueError\u001b[0m                                Traceback (most recent call last)",
      "\u001b[0;32m<ipython-input-26-532219ecb501>\u001b[0m in \u001b[0;36m<module>\u001b[0;34m\u001b[0m\n\u001b[1;32m      1\u001b[0m \u001b[0mproblem_seven_list_a\u001b[0m \u001b[0;34m=\u001b[0m \u001b[0mnp\u001b[0m\u001b[0;34m.\u001b[0m\u001b[0marray\u001b[0m\u001b[0;34m(\u001b[0m\u001b[0;34m[\u001b[0m\u001b[0;34m[\u001b[0m\u001b[0;34m-\u001b[0m\u001b[0;36m5\u001b[0m\u001b[0;34m]\u001b[0m\u001b[0;34m,\u001b[0m\u001b[0;34m[\u001b[0m\u001b[0;36m6\u001b[0m\u001b[0;34m]\u001b[0m\u001b[0;34m,\u001b[0m\u001b[0;34m[\u001b[0m\u001b[0;36m0\u001b[0m\u001b[0;34m]\u001b[0m\u001b[0;34m]\u001b[0m\u001b[0;34m)\u001b[0m\u001b[0;34m\u001b[0m\u001b[0;34m\u001b[0m\u001b[0m\n\u001b[1;32m      2\u001b[0m \u001b[0mproblem_seven_list_b\u001b[0m \u001b[0;34m=\u001b[0m \u001b[0mnp\u001b[0m\u001b[0;34m.\u001b[0m\u001b[0marray\u001b[0m\u001b[0;34m(\u001b[0m\u001b[0;34m[\u001b[0m\u001b[0;36m3\u001b[0m\u001b[0;34m,\u001b[0m \u001b[0;34m-\u001b[0m\u001b[0;36m1\u001b[0m\u001b[0;34m]\u001b[0m\u001b[0;34m)\u001b[0m\u001b[0;34m\u001b[0m\u001b[0;34m\u001b[0m\u001b[0m\n\u001b[0;32m----> 3\u001b[0;31m \u001b[0mproblem_seven_answer\u001b[0m \u001b[0;34m=\u001b[0m \u001b[0mproblem_seven_list_b\u001b[0m\u001b[0;34m.\u001b[0m\u001b[0mdot\u001b[0m\u001b[0;34m(\u001b[0m\u001b[0mproblem_seven_list_a\u001b[0m\u001b[0;34m)\u001b[0m\u001b[0;34m\u001b[0m\u001b[0;34m\u001b[0m\u001b[0m\n\u001b[0m\u001b[1;32m      4\u001b[0m \u001b[0mproblem_seven_answer\u001b[0m\u001b[0;34m\u001b[0m\u001b[0;34m\u001b[0m\u001b[0m\n",
      "\u001b[0;31mValueError\u001b[0m: shapes (2,) and (3,1) not aligned: 2 (dim 0) != 3 (dim 0)"
     ]
    }
   ],
   "source": [
    "problem_seven_list_a = np.array([[-5],[6],[0]])\n",
    "problem_seven_list_b = np.array([3, -1])\n",
    "problem_seven_answer = problem_seven_list_b.dot(problem_seven_list_a)\n",
    "problem_seven_answer"
   ]
  },
  {
   "cell_type": "code",
   "execution_count": 30,
   "metadata": {},
   "outputs": [
    {
     "data": {
      "text/plain": [
       "array([[ 22,  23,  25],\n",
       "       [ 13,   7,  24],\n",
       "       [ -3,   8, -19]])"
      ]
     },
     "execution_count": 30,
     "metadata": {},
     "output_type": "execute_result"
    }
   ],
   "source": [
    "problem_eight_list_a = np.array([[3, 2, 5], [2, 3, 1]])\n",
    "problem_eight_list_b = np.array([[4, 5],[5, -1],[-5, 6]])\n",
    "problem_eight_answer = problem_eight_list_b.dot(problem_eight_list_a)\n",
    "problem_eight_answer"
   ]
  },
  {
   "cell_type": "code",
   "execution_count": 32,
   "metadata": {},
   "outputs": [
    {
     "data": {
      "text/plain": [
       "array([[ -8,  14],\n",
       "       [ 33,   6],\n",
       "       [-24, -60]])"
      ]
     },
     "execution_count": 32,
     "metadata": {},
     "output_type": "execute_result"
    }
   ],
   "source": [
    "problem_nine_list_a = np.array([[3, -1], [-3, 6], [-6, -6]])\n",
    "problem_nine_list_b = np.array([[-1, 6], [5, 4]])\n",
    "problem_nine_answer = problem_nine_list_a.dot(problem_nine_list_b)\n",
    "problem_nine_answer"
   ]
  },
  {
   "cell_type": "code",
   "execution_count": 34,
   "metadata": {},
   "outputs": [
    {
     "data": {
      "text/plain": [
       "array([[ -8],\n",
       "       [-11]])"
      ]
     },
     "execution_count": 34,
     "metadata": {},
     "output_type": "execute_result"
    }
   ],
   "source": [
    "problem_ten_list_a = np.array([[5, 4], [2, -1]])\n",
    "problem_ten_list_b = np.array([[-4],[3]])\n",
    "problem_ten_answer = problem_ten_list_a.dot(problem_ten_list_b)\n",
    "problem_ten_answer"
   ]
  },
  {
   "cell_type": "code",
   "execution_count": 35,
   "metadata": {},
   "outputs": [
    {
     "data": {
      "text/plain": [
       "array([[ -7, -11],\n",
       "       [ 10,  13],\n",
       "       [ 17,  60],\n",
       "       [  0, -61]])"
      ]
     },
     "execution_count": 35,
     "metadata": {},
     "output_type": "execute_result"
    }
   ],
   "source": [
    "problem_eleven_list_a = np.array([[-1, 1, -1], [5, 2, -5], [6, -5, 1], [-5, 6, 0]])\n",
    "problem_eleven_list_b = np.array([[6, 5], [5, -6], [6, 0]])\n",
    "problem_eleven_answer = problem_eleven_list_a.dot(problem_eleven_list_b)\n",
    "problem_eleven_answer"
   ]
  },
  {
   "cell_type": "code",
   "execution_count": 36,
   "metadata": {},
   "outputs": [
    {
     "data": {
      "text/plain": [
       "array([[-16,   4,  14],\n",
       "       [ -2,   8, -17],\n",
       "       [ 10, -10,  10],\n",
       "       [ -4,  -8,  26]])"
      ]
     },
     "execution_count": 36,
     "metadata": {},
     "output_type": "execute_result"
    }
   ],
   "source": [
    "problem_twelve_list_a = np.array([[-2, -6], [-4, 3], [5, 0], [4, -6]])\n",
    "problem_twelve_list_b = np.array([[2, -2, 2],[2, 0, -3]])\n",
    "problem_twelve_answer = problem_twelve_list_a.dot(problem_twelve_list_b)\n",
    "problem_twelve_answer"
   ]
  },
  {
   "cell_type": "code",
   "execution_count": 37,
   "metadata": {},
   "outputs": [
    {
     "data": {
      "text/plain": [
       "array([[-16,   4,  14],\n",
       "       [ -2,   8, -17],\n",
       "       [ 10, -10,  10],\n",
       "       [ -4,  -8,  26]])"
      ]
     },
     "execution_count": 37,
     "metadata": {},
     "output_type": "execute_result"
    }
   ],
   "source": [
    "problem_thirteen_list_a = np.array([])\n",
    "problem_thirteen_list_b = np.array([])\n",
    "problem_thirteen_answer = problem_thirteen_list_a.dot(problem_thirteen_list_b)\n",
    "problem_thirteen_answer"
   ]
  },
  {
   "cell_type": "code",
   "execution_count": null,
   "metadata": {},
   "outputs": [],
   "source": []
  },
  {
   "cell_type": "code",
   "execution_count": null,
   "metadata": {},
   "outputs": [],
   "source": []
  },
  {
   "cell_type": "code",
   "execution_count": null,
   "metadata": {},
   "outputs": [],
   "source": []
  },
  {
   "cell_type": "code",
   "execution_count": null,
   "metadata": {},
   "outputs": [],
   "source": []
  },
  {
   "cell_type": "code",
   "execution_count": null,
   "metadata": {},
   "outputs": [],
   "source": []
  },
  {
   "cell_type": "code",
   "execution_count": null,
   "metadata": {},
   "outputs": [],
   "source": []
  },
  {
   "cell_type": "code",
   "execution_count": null,
   "metadata": {},
   "outputs": [],
   "source": []
  },
  {
   "cell_type": "code",
   "execution_count": null,
   "metadata": {},
   "outputs": [],
   "source": []
  },
  {
   "cell_type": "code",
   "execution_count": null,
   "metadata": {},
   "outputs": [],
   "source": []
  },
  {
   "cell_type": "code",
   "execution_count": null,
   "metadata": {},
   "outputs": [],
   "source": []
  }
 ],
 "metadata": {
  "kernelspec": {
   "display_name": "Python 3",
   "language": "python",
   "name": "python3"
  },
  "language_info": {
   "codemirror_mode": {
    "name": "ipython",
    "version": 3
   },
   "file_extension": ".py",
   "mimetype": "text/x-python",
   "name": "python",
   "nbconvert_exporter": "python",
   "pygments_lexer": "ipython3",
   "version": "3.7.6"
  }
 },
 "nbformat": 4,
 "nbformat_minor": 4
}
